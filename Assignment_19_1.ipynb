{
  "nbformat": 4,
  "nbformat_minor": 0,
  "metadata": {
    "colab": {
      "provenance": [],
      "authorship_tag": "ABX9TyMyURmsS/3jOtXWY1CAkX9+",
      "include_colab_link": true
    },
    "kernelspec": {
      "name": "python3",
      "display_name": "Python 3"
    },
    "language_info": {
      "name": "python"
    }
  },
  "cells": [
    {
      "cell_type": "markdown",
      "metadata": {
        "id": "view-in-github",
        "colab_type": "text"
      },
      "source": [
        "<a href=\"https://colab.research.google.com/github/Sai-D-beep/Datamining/blob/main/Assignment_19_1.ipynb\" target=\"_parent\"><img src=\"https://colab.research.google.com/assets/colab-badge.svg\" alt=\"Open In Colab\"/></a>"
      ]
    },
    {
      "cell_type": "code",
      "execution_count": 1,
      "metadata": {
        "colab": {
          "base_uri": "https://localhost:8080/"
        },
        "id": "_PxMZptPn2Tk",
        "outputId": "3338922b-2e63-42b2-8b06-e503d8674bbd"
      },
      "outputs": [
        {
          "output_type": "stream",
          "name": "stdout",
          "text": [
            "  Employee Department  Salary  Experience (Years)  Performance Rating\n",
            "0     John         IT   60000                   5                 4.5\n",
            "1    Sarah         HR   50000                   3                 3.8\n",
            "2     Mike         IT   75000                   7                 4.9\n",
            "3     Emma    Finance   65000                   4                 4.2\n",
            "4      Tom         HR   48000                   2                 3.5\n"
          ]
        }
      ],
      "source": [
        "import pandas as pd\n",
        "\n",
        "data = {\n",
        "    \"Employee\": [\"John\", \"Sarah\", \"Mike\", \"Emma\", \"Tom\"],\n",
        "    \"Department\": [\"IT\", \"HR\", \"IT\", \"Finance\", \"HR\"],\n",
        "    \"Salary\": [60000, 50000, 75000, 65000, 48000],\n",
        "    \"Experience (Years)\": [5, 3, 7, 4, 2],\n",
        "    \"Performance Rating\": [4.5, 3.8, 4.9, 4.2, 3.5]\n",
        "}\n",
        "\n",
        "df = pd.DataFrame(data)\n",
        "print(df)\n"
      ]
    },
    {
      "cell_type": "code",
      "source": [
        "average_salary = df.groupby(\"Department\")[\"Salary\"].mean()\n",
        "print(\"Average Salary per Department:\\n\", average_salary)\n"
      ],
      "metadata": {
        "colab": {
          "base_uri": "https://localhost:8080/"
        },
        "id": "_TBcqsJIoG19",
        "outputId": "17cb70d6-f3a6-4874-d42a-f5a187d906d5"
      },
      "execution_count": 2,
      "outputs": [
        {
          "output_type": "stream",
          "name": "stdout",
          "text": [
            "Average Salary per Department:\n",
            " Department\n",
            "Finance    65000.0\n",
            "HR         49000.0\n",
            "IT         67500.0\n",
            "Name: Salary, dtype: float64\n"
          ]
        }
      ]
    },
    {
      "cell_type": "code",
      "source": [
        "high_performers = df[df[\"Performance Rating\"] > 4.0]\n",
        "print(\"Employees with Performance Rating above 4.0:\\n\", high_performers)\n"
      ],
      "metadata": {
        "colab": {
          "base_uri": "https://localhost:8080/"
        },
        "id": "TlNSg3NNoJTp",
        "outputId": "944c9018-de88-4ada-a625-78e6fe5bebff"
      },
      "execution_count": 3,
      "outputs": [
        {
          "output_type": "stream",
          "name": "stdout",
          "text": [
            "Employees with Performance Rating above 4.0:\n",
            "   Employee Department  Salary  Experience (Years)  Performance Rating\n",
            "0     John         IT   60000                   5                 4.5\n",
            "2     Mike         IT   75000                   7                 4.9\n",
            "3     Emma    Finance   65000                   4                 4.2\n"
          ]
        }
      ]
    },
    {
      "cell_type": "code",
      "source": [
        "df[\"Increment\"] = df[\"Salary\"] * df[\"Performance Rating\"].apply(lambda x: 0.1 if x > 4.0 else 0.05)\n",
        "print(df)\n"
      ],
      "metadata": {
        "colab": {
          "base_uri": "https://localhost:8080/"
        },
        "id": "nbPiyqPHoM6d",
        "outputId": "0047bced-33ad-4946-c47b-ea68a627f64e"
      },
      "execution_count": 4,
      "outputs": [
        {
          "output_type": "stream",
          "name": "stdout",
          "text": [
            "  Employee Department  Salary  Experience (Years)  Performance Rating  \\\n",
            "0     John         IT   60000                   5                 4.5   \n",
            "1    Sarah         HR   50000                   3                 3.8   \n",
            "2     Mike         IT   75000                   7                 4.9   \n",
            "3     Emma    Finance   65000                   4                 4.2   \n",
            "4      Tom         HR   48000                   2                 3.5   \n",
            "\n",
            "   Increment  \n",
            "0     6000.0  \n",
            "1     2500.0  \n",
            "2     7500.0  \n",
            "3     6500.0  \n",
            "4     2400.0  \n"
          ]
        }
      ]
    },
    {
      "cell_type": "code",
      "source": [
        "df[\"New Salary\"] = df[\"Salary\"] + df[\"Increment\"]\n",
        "sorted_df = df.sort_values(by=\"New Salary\", ascending=False)\n",
        "print(\"Employees sorted by New Salary:\\n\", sorted_df)\n"
      ],
      "metadata": {
        "colab": {
          "base_uri": "https://localhost:8080/"
        },
        "id": "32dN3XhnoPdw",
        "outputId": "20fdf1f6-5912-4075-ceee-cfd4811d35aa"
      },
      "execution_count": 5,
      "outputs": [
        {
          "output_type": "stream",
          "name": "stdout",
          "text": [
            "Employees sorted by New Salary:\n",
            "   Employee Department  Salary  Experience (Years)  Performance Rating  \\\n",
            "2     Mike         IT   75000                   7                 4.9   \n",
            "3     Emma    Finance   65000                   4                 4.2   \n",
            "0     John         IT   60000                   5                 4.5   \n",
            "1    Sarah         HR   50000                   3                 3.8   \n",
            "4      Tom         HR   48000                   2                 3.5   \n",
            "\n",
            "   Increment  New Salary  \n",
            "2     7500.0     82500.0  \n",
            "3     6500.0     71500.0  \n",
            "0     6000.0     66000.0  \n",
            "1     2500.0     52500.0  \n",
            "4     2400.0     50400.0  \n"
          ]
        }
      ]
    }
  ]
}